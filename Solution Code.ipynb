{
 "cells": [
  {
   "cell_type": "markdown",
   "id": "7387c10a-976c-469c-b808-54fb83a6f055",
   "metadata": {},
   "source": [
    "## **From Zero to Hero: Solution Code**\n",
    "This page includes solution code for the \"From Zero to Python Hero\" Python workshop. The purpose of this page is to provide guidance for the concepts and activities covered in the workshop.\n",
    "\n",
    "* Section I consists of single lines of code used as examples of the walkthrough in Block I of Instructions.\n",
    "* Section II consists of the solution code for the function exercises in Block II of Instructions.\n",
    "* Section III consists of the solution code for the game logic of the Python Pong Game in Block III of Instructions.\n",
    "\n",
    "> Teachers, feel free to use this page as a guideline for instruction, but modify it as needed to best suit your teaching style!\n",
    "\n",
    "*Please utilize the corresponding worksheet for students to follow along throughout this workshop. (Name: From Zero to Python Hero Worksheet)*"
   ]
  },
  {
   "cell_type": "markdown",
   "id": "212e2048-57fb-419e-a9eb-6425133c9b6a",
   "metadata": {},
   "source": [
    "### **Section I**"
   ]
  },
  {
   "cell_type": "markdown",
   "id": "06bb33f9-98f9-428c-b25e-5a8f3698eb93",
   "metadata": {},
   "source": [
    "#### **Strings**"
   ]
  },
  {
   "cell_type": "code",
   "execution_count": 384,
   "id": "468620b2-9ebf-4cb4-9d75-01afb1dda959",
   "metadata": {},
   "outputs": [
    {
     "data": {
      "text/plain": [
       "'Hello World'"
      ]
     },
     "execution_count": 384,
     "metadata": {},
     "output_type": "execute_result"
    }
   ],
   "source": [
    "\"Hello World\" # Running a string returns in string format"
   ]
  },
  {
   "cell_type": "code",
   "execution_count": 386,
   "id": "2931df7f-3652-40e4-bf58-2986e5ad7805",
   "metadata": {},
   "outputs": [
    {
     "name": "stdout",
     "output_type": "stream",
     "text": [
      "Hello World\n"
     ]
    }
   ],
   "source": [
    "print(\"Hello World\") # Print statement returns in text format"
   ]
  },
  {
   "cell_type": "code",
   "execution_count": 388,
   "id": "31e7098c-7801-4064-aacd-d751407cb2c1",
   "metadata": {},
   "outputs": [
    {
     "name": "stdout",
     "output_type": "stream",
     "text": [
      "this is \n",
      "a string\n"
     ]
    }
   ],
   "source": [
    "print(\"this is \\na string\") # \\n continues the string in the next line"
   ]
  },
  {
   "cell_type": "code",
   "execution_count": 259,
   "id": "0e22114e-647f-441d-86a2-23d4a9bbdcec",
   "metadata": {},
   "outputs": [
    {
     "data": {
      "text/plain": [
       "16"
      ]
     },
     "execution_count": 259,
     "metadata": {},
     "output_type": "execute_result"
    }
   ],
   "source": [
    "len(\"this is a string\") # len() counts the total characters in the string"
   ]
  },
  {
   "cell_type": "code",
   "execution_count": 300,
   "id": "b2d4e669-e363-4b3a-82e8-a39735a2f395",
   "metadata": {},
   "outputs": [
    {
     "data": {
      "text/plain": [
       "str"
      ]
     },
     "execution_count": 300,
     "metadata": {},
     "output_type": "execute_result"
    }
   ],
   "source": [
    "type(\"hello\") # type() returns the data type of the code within the parentheses"
   ]
  },
  {
   "cell_type": "code",
   "execution_count": 265,
   "id": "fa868445-a9b1-4eb4-8d05-0ad71f85305a",
   "metadata": {},
   "outputs": [
    {
     "data": {
      "text/plain": [
       "'Hello World'"
      ]
     },
     "execution_count": 265,
     "metadata": {},
     "output_type": "execute_result"
    }
   ],
   "source": [
    "mystring = \"Hello World\" # Assign a variable to a string\n",
    "mystring"
   ]
  },
  {
   "cell_type": "code",
   "execution_count": 271,
   "id": "d6ae04b6-1b63-4a65-8c85-a06b763f702a",
   "metadata": {},
   "outputs": [
    {
     "data": {
      "text/plain": [
       "'H'"
      ]
     },
     "execution_count": 271,
     "metadata": {},
     "output_type": "execute_result"
    }
   ],
   "source": [
    "mystring[0] # First index starts at 0"
   ]
  },
  {
   "cell_type": "code",
   "execution_count": 273,
   "id": "f3876c8f-fb43-49b1-aa8a-99066667be43",
   "metadata": {},
   "outputs": [
    {
     "data": {
      "text/plain": [
       "'HELLO WORLD'"
      ]
     },
     "execution_count": 273,
     "metadata": {},
     "output_type": "execute_result"
    }
   ],
   "source": [
    "mystring.upper() # .upper() capitalizes all letters in the string"
   ]
  },
  {
   "cell_type": "code",
   "execution_count": 275,
   "id": "f5d6b3d0-8397-4fe4-b0ab-f6d8486e9eb9",
   "metadata": {},
   "outputs": [
    {
     "data": {
      "text/plain": [
       "'hello world'"
      ]
     },
     "execution_count": 275,
     "metadata": {},
     "output_type": "execute_result"
    }
   ],
   "source": [
    "mystring.lower() # .lower() lowercases all letters in the string"
   ]
  },
  {
   "cell_type": "code",
   "execution_count": 279,
   "id": "d931ee61-2f33-41c5-a97f-251129882bfc",
   "metadata": {},
   "outputs": [
    {
     "data": {
      "text/plain": [
       "['Hello', 'World']"
      ]
     },
     "execution_count": 279,
     "metadata": {},
     "output_type": "execute_result"
    }
   ],
   "source": [
    "mystring.split() # .split() splits the string by spaces (default)"
   ]
  },
  {
   "cell_type": "code",
   "execution_count": 667,
   "id": "aaa32876-2364-4e82-91f7-a08b325f941b",
   "metadata": {},
   "outputs": [
    {
     "name": "stdout",
     "output_type": "stream",
     "text": [
      "You have $10.\n"
     ]
    }
   ],
   "source": [
    "x = 10 # Assign a variable to a number\n",
    "\n",
    "# Use a formatted string literal (f-string), can include different data types as long as they are assigned to a variable\n",
    "result = print(f\"You have ${x}.\") "
   ]
  },
  {
   "cell_type": "markdown",
   "id": "1a7d5a61-4b98-4d82-b313-42b6cd2e13ba",
   "metadata": {},
   "source": [
    "#### **Numbers**"
   ]
  },
  {
   "cell_type": "code",
   "execution_count": 216,
   "id": "d2f058b6-e72e-4716-bc96-20ee29166306",
   "metadata": {},
   "outputs": [
    {
     "data": {
      "text/plain": [
       "10"
      ]
     },
     "execution_count": 216,
     "metadata": {},
     "output_type": "execute_result"
    }
   ],
   "source": [
    "a = 10 # Value assignment: assign a variable to a number\n",
    "a"
   ]
  },
  {
   "cell_type": "code",
   "execution_count": 530,
   "id": "a4b4f8c8-afde-4998-b289-d712c9fd25ef",
   "metadata": {},
   "outputs": [
    {
     "data": {
      "text/plain": [
       "int"
      ]
     },
     "execution_count": 530,
     "metadata": {},
     "output_type": "execute_result"
    }
   ],
   "source": [
    "type(a) # Data type is int"
   ]
  },
  {
   "cell_type": "code",
   "execution_count": 532,
   "id": "cd5a2483-b1ee-4506-a2ad-90901f17093a",
   "metadata": {},
   "outputs": [],
   "source": [
    "b = 2 # Assign a second variable to another number"
   ]
  },
  {
   "cell_type": "code",
   "execution_count": 534,
   "id": "76219aee-6257-429b-bbef-2949a0eee0ab",
   "metadata": {},
   "outputs": [
    {
     "data": {
      "text/plain": [
       "12"
      ]
     },
     "execution_count": 534,
     "metadata": {},
     "output_type": "execute_result"
    }
   ],
   "source": [
    "a + b # Addition "
   ]
  },
  {
   "cell_type": "code",
   "execution_count": 536,
   "id": "17767642-19e8-4a4e-b6b0-a961aff0e9d4",
   "metadata": {},
   "outputs": [
    {
     "data": {
      "text/plain": [
       "8"
      ]
     },
     "execution_count": 536,
     "metadata": {},
     "output_type": "execute_result"
    }
   ],
   "source": [
    "a-b # Subtraction "
   ]
  },
  {
   "cell_type": "code",
   "execution_count": 538,
   "id": "9feb2b6a-e8b9-4d4e-89f7-923ae5f1afbb",
   "metadata": {},
   "outputs": [
    {
     "data": {
      "text/plain": [
       "20"
      ]
     },
     "execution_count": 538,
     "metadata": {},
     "output_type": "execute_result"
    }
   ],
   "source": [
    "a*b # Multiplication "
   ]
  },
  {
   "cell_type": "code",
   "execution_count": 540,
   "id": "ccec7c1f-a98b-4ceb-920f-c5453dc2aa2d",
   "metadata": {},
   "outputs": [
    {
     "data": {
      "text/plain": [
       "5.0"
      ]
     },
     "execution_count": 540,
     "metadata": {},
     "output_type": "execute_result"
    }
   ],
   "source": [
    "a/b # Division "
   ]
  },
  {
   "cell_type": "code",
   "execution_count": 637,
   "id": "7836f44b-8619-4a9f-9759-c49c3d9d282c",
   "metadata": {},
   "outputs": [
    {
     "data": {
      "text/plain": [
       "float"
      ]
     },
     "execution_count": 637,
     "metadata": {},
     "output_type": "execute_result"
    }
   ],
   "source": [
    "type(a/b) # Data type is float"
   ]
  },
  {
   "cell_type": "code",
   "execution_count": 528,
   "id": "939c87a6-e36e-4f13-b550-6fdcd8a82a46",
   "metadata": {},
   "outputs": [
    {
     "data": {
      "text/plain": [
       "0"
      ]
     },
     "execution_count": 528,
     "metadata": {},
     "output_type": "execute_result"
    }
   ],
   "source": [
    "10%2 # Remainder division: After a dividing the two numbers, what is the remainder?"
   ]
  },
  {
   "cell_type": "code",
   "execution_count": 284,
   "id": "a655c2bb-48ab-4ffd-a42e-0d2b37e9d45e",
   "metadata": {},
   "outputs": [],
   "source": [
    "e = 'one'\n",
    "f = 'two'"
   ]
  },
  {
   "cell_type": "code",
   "execution_count": 292,
   "id": "88bc2946-acb9-4e5c-9f6d-96b4cba76dcf",
   "metadata": {},
   "outputs": [
    {
     "data": {
      "text/plain": [
       "'onetwo'"
      ]
     },
     "execution_count": 292,
     "metadata": {},
     "output_type": "execute_result"
    }
   ],
   "source": [
    "e+f # Trying to conduct a math operation on strings does not return a number"
   ]
  },
  {
   "cell_type": "code",
   "execution_count": 639,
   "id": "21642bad-c6c5-4497-8474-22a43c72ddea",
   "metadata": {},
   "outputs": [
    {
     "ename": "TypeError",
     "evalue": "unsupported operand type(s) for +: 'int' and 'str'",
     "output_type": "error",
     "traceback": [
      "\u001b[1;31m---------------------------------------------------------------------------\u001b[0m",
      "\u001b[1;31mTypeError\u001b[0m                                 Traceback (most recent call last)",
      "Cell \u001b[1;32mIn[639], line 1\u001b[0m\n\u001b[1;32m----> 1\u001b[0m a \u001b[38;5;241m+\u001b[39m e\n",
      "\u001b[1;31mTypeError\u001b[0m: unsupported operand type(s) for +: 'int' and 'str'"
     ]
    }
   ],
   "source": [
    "a + e # You cannot perform one operation on multiple data types!"
   ]
  },
  {
   "cell_type": "markdown",
   "id": "ad6a33f8-4511-403b-806a-e4efb047e5e2",
   "metadata": {},
   "source": [
    "#### **Variable Assignments**"
   ]
  },
  {
   "cell_type": "code",
   "execution_count": 233,
   "id": "4176177e-af0c-4dd7-aae8-5cb37637a370",
   "metadata": {},
   "outputs": [
    {
     "data": {
      "text/plain": [
       "'Hello World'"
      ]
     },
     "execution_count": 233,
     "metadata": {},
     "output_type": "execute_result"
    }
   ],
   "source": [
    "count123 = \"Hello World\" # Valid variable name: Variables can contain letters and digits.\n",
    "count123"
   ]
  },
  {
   "cell_type": "code",
   "execution_count": null,
   "id": "5a5f7b04-dde3-4c2d-938b-904277308b78",
   "metadata": {},
   "outputs": [],
   "source": [
    "user name = \"CyberScriber\""
   ]
  },
  {
   "cell_type": "code",
   "execution_count": 235,
   "id": "b59f52e4-02ee-4947-b1c0-0ee5c0047d9f",
   "metadata": {},
   "outputs": [
    {
     "ename": "SyntaxError",
     "evalue": "invalid decimal literal (3829243197.py, line 1)",
     "output_type": "error",
     "traceback": [
      "\u001b[1;36m  Cell \u001b[1;32mIn[235], line 1\u001b[1;36m\u001b[0m\n\u001b[1;33m    1string = \"Hello World\" # Invalid variable name: Variables cannot start with a digit!\u001b[0m\n\u001b[1;37m    ^\u001b[0m\n\u001b[1;31mSyntaxError\u001b[0m\u001b[1;31m:\u001b[0m invalid decimal literal\n"
     ]
    }
   ],
   "source": [
    "1string = \"Hello World\" # Invalid variable name: Variables cannot start with a digit!\n",
    "1string"
   ]
  },
  {
   "cell_type": "code",
   "execution_count": 237,
   "id": "72774833-41eb-4c29-bbf1-9ab88e1176dc",
   "metadata": {},
   "outputs": [
    {
     "data": {
      "text/plain": [
       "'I love Python!'"
      ]
     },
     "execution_count": 237,
     "metadata": {},
     "output_type": "execute_result"
    }
   ],
   "source": [
    "_my_variable = \"I love Python!\" # Valid variable name: Variables can contain and start with underscores (_).\n",
    "_my_variable"
   ]
  },
  {
   "cell_type": "code",
   "execution_count": 239,
   "id": "a9a13a65-e6aa-46b6-86eb-ddf13dbc1cb3",
   "metadata": {},
   "outputs": [
    {
     "ename": "NameError",
     "evalue": "name 'sentence' is not defined",
     "output_type": "error",
     "traceback": [
      "\u001b[1;31m---------------------------------------------------------------------------\u001b[0m",
      "\u001b[1;31mNameError\u001b[0m                                 Traceback (most recent call last)",
      "Cell \u001b[1;32mIn[239], line 2\u001b[0m\n\u001b[0;32m      1\u001b[0m Sentence \u001b[38;5;241m=\u001b[39m \u001b[38;5;124m\"\u001b[39m\u001b[38;5;124mI love Python!\u001b[39m\u001b[38;5;124m\"\u001b[39m \u001b[38;5;66;03m# Valid variable name: Variables can contain uppercase and lowercase levels.\u001b[39;00m\n\u001b[1;32m----> 2\u001b[0m sentence\n",
      "\u001b[1;31mNameError\u001b[0m: name 'sentence' is not defined"
     ]
    }
   ],
   "source": [
    "Sentence = \"I love Python!\" # Valid variable name: Variables can contain uppercase and lowercase levels.\n",
    "sentence # Incorrect call: Variables are case sensitive!"
   ]
  },
  {
   "attachments": {},
   "cell_type": "markdown",
   "id": "e119c6b4-b2e2-4a91-ab2f-551cfd325e2a",
   "metadata": {},
   "source": [
    "Other variable assignment rules:\n",
    "\n",
    "1. Special characters (such as @, #, $, %, etc.) and spaces are not allowed.\n",
    "\n",
    "2. Variable names cannot be the same as Python's reserved keywords (e.g., if, else, while, for, class, def, etc.).\n",
    "\n",
    "> **Note:** It is good practice to use unique and descriptive names that are readable and convey the meaning of the variable (e.g. 'user_age' instead of 'a')."
   ]
  },
  {
   "cell_type": "markdown",
   "id": "b8a3dcf1-b178-4274-a07b-6e1421cf38a1",
   "metadata": {},
   "source": [
    "#### **Lists**"
   ]
  },
  {
   "cell_type": "code",
   "execution_count": 544,
   "id": "c163d204-feeb-43dd-a20e-55a486dfdc1e",
   "metadata": {},
   "outputs": [
    {
     "data": {
      "text/plain": [
       "['abc', 123, 0.2]"
      ]
     },
     "execution_count": 544,
     "metadata": {},
     "output_type": "execute_result"
    }
   ],
   "source": [
    "# Create a list, it can contain values of any data type!\n",
    "mylist = ['abc', 123, 0.20]\n",
    "mylist"
   ]
  },
  {
   "cell_type": "code",
   "execution_count": 418,
   "id": "20ed7084-11c6-4fca-83ad-574f9d7af84c",
   "metadata": {},
   "outputs": [
    {
     "data": {
      "text/plain": [
       "list"
      ]
     },
     "execution_count": 418,
     "metadata": {},
     "output_type": "execute_result"
    }
   ],
   "source": [
    "type(mylist) # Data type is list"
   ]
  },
  {
   "cell_type": "code",
   "execution_count": 548,
   "id": "d2df0f2d-cce5-4179-9311-59756d9a6dd9",
   "metadata": {},
   "outputs": [
    {
     "data": {
      "text/plain": [
       "['one', 'two', 'three']"
      ]
     },
     "execution_count": 548,
     "metadata": {},
     "output_type": "execute_result"
    }
   ],
   "source": [
    "numlist = ['one','two','three'] # Create a list\n",
    "numlist"
   ]
  },
  {
   "cell_type": "code",
   "execution_count": 550,
   "id": "09ce0f27-b155-47d2-83af-080e4c591aab",
   "metadata": {},
   "outputs": [
    {
     "data": {
      "text/plain": [
       "['one', 'two', 'three', 'four']"
      ]
     },
     "execution_count": 550,
     "metadata": {},
     "output_type": "execute_result"
    }
   ],
   "source": [
    "numlist.append('four') # .appends() inserts another object at the end of the list\n",
    "numlist"
   ]
  },
  {
   "cell_type": "code",
   "execution_count": 552,
   "id": "e58708a2-1232-411a-9d7a-33c8258e107e",
   "metadata": {},
   "outputs": [
    {
     "data": {
      "text/plain": [
       "['abc', 123, 0.2]"
      ]
     },
     "execution_count": 552,
     "metadata": {},
     "output_type": "execute_result"
    }
   ],
   "source": [
    "numlist.pop(0) # .pop() removes the object at the specfic index called, remember index starts at 0!\n",
    "mylist"
   ]
  },
  {
   "cell_type": "code",
   "execution_count": 324,
   "id": "cfef5d3e-713d-4f78-bb19-228f7334011e",
   "metadata": {},
   "outputs": [
    {
     "data": {
      "text/plain": [
       "['e', 'a', 'x', 'b', 'l']"
      ]
     },
     "execution_count": 324,
     "metadata": {},
     "output_type": "execute_result"
    }
   ],
   "source": [
    "newlist = ['e','a','x','b','l'] # Create a new list\n",
    "newlist"
   ]
  },
  {
   "cell_type": "code",
   "execution_count": 328,
   "id": "60fe81ae-eacc-4dc2-b8b4-8b41217bb5e6",
   "metadata": {},
   "outputs": [
    {
     "data": {
      "text/plain": [
       "['a', 'b', 'e', 'l', 'x']"
      ]
     },
     "execution_count": 328,
     "metadata": {},
     "output_type": "execute_result"
    }
   ],
   "source": [
    "newlist.sort() # .sort() reorganizes the list in alphabetical order\n",
    "newlist"
   ]
  },
  {
   "cell_type": "markdown",
   "id": "47464d0a-c313-45a9-8fe7-ae785f8158bd",
   "metadata": {},
   "source": [
    "#### **Boolean Expressions (Comparison Operators)**\n",
    "Boolean logic helps computers make decisions by evaluating conditions as **True** or **False**. "
   ]
  },
  {
   "cell_type": "code",
   "execution_count": 410,
   "id": "068fa9e9-3b1a-45ff-b1a8-8f694bfc784e",
   "metadata": {},
   "outputs": [],
   "source": [
    "# Variable Assignments\n",
    "a = 10\n",
    "b = 20"
   ]
  },
  {
   "cell_type": "code",
   "execution_count": 412,
   "id": "50620f64-8965-4fa3-aa81-50f4a4a446ae",
   "metadata": {},
   "outputs": [
    {
     "data": {
      "text/plain": [
       "False"
      ]
     },
     "execution_count": 412,
     "metadata": {},
     "output_type": "execute_result"
    }
   ],
   "source": [
    "a > b # Returns True if the left operand is greater than the right operand"
   ]
  },
  {
   "cell_type": "code",
   "execution_count": 414,
   "id": "a4c13199-4e2c-4a29-b9b3-1a1e1bf510ca",
   "metadata": {},
   "outputs": [
    {
     "data": {
      "text/plain": [
       "bool"
      ]
     },
     "execution_count": 414,
     "metadata": {},
     "output_type": "execute_result"
    }
   ],
   "source": [
    "type(a > b) # Data type is bool"
   ]
  },
  {
   "cell_type": "markdown",
   "id": "9ce248ba-e8f7-4c36-b7c7-fbcce5ca7c4d",
   "metadata": {},
   "source": [
    "Try out other operators! Explore different comparison expressions that output True and output False. Examples are show below:"
   ]
  },
  {
   "cell_type": "code",
   "execution_count": 420,
   "id": "18ee4333-54f2-4379-bb03-a79acb536571",
   "metadata": {},
   "outputs": [
    {
     "data": {
      "text/plain": [
       "True"
      ]
     },
     "execution_count": 420,
     "metadata": {},
     "output_type": "execute_result"
    }
   ],
   "source": [
    "a < b # Less than"
   ]
  },
  {
   "cell_type": "code",
   "execution_count": 422,
   "id": "c169a6c0-bcb4-41f3-9f12-62b598b7d306",
   "metadata": {},
   "outputs": [
    {
     "data": {
      "text/plain": [
       "False"
      ]
     },
     "execution_count": 422,
     "metadata": {},
     "output_type": "execute_result"
    }
   ],
   "source": [
    "a >= b # Greater than or equal to"
   ]
  },
  {
   "cell_type": "code",
   "execution_count": 424,
   "id": "3c54144f-0e8c-4132-ad5e-6416d5471238",
   "metadata": {},
   "outputs": [
    {
     "data": {
      "text/plain": [
       "True"
      ]
     },
     "execution_count": 424,
     "metadata": {},
     "output_type": "execute_result"
    }
   ],
   "source": [
    "a <= b # Less than or equal to"
   ]
  },
  {
   "cell_type": "code",
   "execution_count": 426,
   "id": "a2b2a7cb-0986-4fa6-bf04-73f18a422a79",
   "metadata": {},
   "outputs": [
    {
     "data": {
      "text/plain": [
       "False"
      ]
     },
     "execution_count": 426,
     "metadata": {},
     "output_type": "execute_result"
    }
   ],
   "source": [
    "a == b # Equal to\n",
    "# Note: (=) is an ASSIGNMENT operator, (==) is a COMPARISON operator"
   ]
  },
  {
   "cell_type": "code",
   "execution_count": 428,
   "id": "3ce88b22-7072-46f9-8dc7-fc7572bb52d9",
   "metadata": {},
   "outputs": [
    {
     "data": {
      "text/plain": [
       "True"
      ]
     },
     "execution_count": 428,
     "metadata": {},
     "output_type": "execute_result"
    }
   ],
   "source": [
    "a != b # Not equal to"
   ]
  },
  {
   "cell_type": "code",
   "execution_count": null,
   "id": "c7b8bb53-ef76-4c73-b54a-342fc5e2abab",
   "metadata": {},
   "outputs": [],
   "source": [
    "a += b # Add and equal to: adds and reassigns the left operand to the sum "
   ]
  },
  {
   "cell_type": "markdown",
   "id": "1bbf4e58-02fe-4383-adb0-ebfc9dc3abff",
   "metadata": {},
   "source": [
    "An interesting feature of Python is the ability to chain multiple comparisons to perform a more complex test. You can use these comparison operators as a shorthand for larger Boolean Expressions!"
   ]
  },
  {
   "cell_type": "code",
   "execution_count": 439,
   "id": "41cac8bc-f44d-4748-a6e4-b67e08fdef54",
   "metadata": {},
   "outputs": [],
   "source": [
    "x = 25\n",
    "y = 15"
   ]
  },
  {
   "cell_type": "code",
   "execution_count": 451,
   "id": "341fd9bf-e66e-4b1c-b1c8-d9fd1e52da06",
   "metadata": {},
   "outputs": [
    {
     "data": {
      "text/plain": [
       "True"
      ]
     },
     "execution_count": 451,
     "metadata": {},
     "output_type": "execute_result"
    }
   ],
   "source": [
    "(x > y) and (x != 0) # AND - BOTH conditions must be true"
   ]
  },
  {
   "cell_type": "code",
   "execution_count": 453,
   "id": "795d9b55-f3d9-48c2-9fc4-01ac13b1055c",
   "metadata": {},
   "outputs": [
    {
     "data": {
      "text/plain": [
       "False"
      ]
     },
     "execution_count": 453,
     "metadata": {},
     "output_type": "execute_result"
    }
   ],
   "source": [
    "(x < y) or (y == 0) # OR - At least ONE condition must be true"
   ]
  },
  {
   "cell_type": "code",
   "execution_count": 449,
   "id": "5c4aae4e-0238-42cb-9d43-bb9987fdd98d",
   "metadata": {},
   "outputs": [
    {
     "data": {
      "text/plain": [
       "True"
      ]
     },
     "execution_count": 449,
     "metadata": {},
     "output_type": "execute_result"
    }
   ],
   "source": [
    "not (x < y) # NOT - Negates a condition"
   ]
  },
  {
   "cell_type": "markdown",
   "id": "3932023f-da56-4777-95a1-a610dd0a0bad",
   "metadata": {},
   "source": [
    "### **Section II**"
   ]
  },
  {
   "cell_type": "markdown",
   "id": "24d396a2-184e-4d7e-b900-776b8b6c2e86",
   "metadata": {},
   "source": [
    "#### **If/Elif/Else Statements**\n",
    "To show the process of if/elif/else statements, walk through each statement until the function includes all three."
   ]
  },
  {
   "cell_type": "code",
   "execution_count": 559,
   "id": "b6b11f8c-c668-4401-89fa-d30ad27d0646",
   "metadata": {},
   "outputs": [
    {
     "name": "stdout",
     "output_type": "stream",
     "text": [
      "You can vote!\n"
     ]
    }
   ],
   "source": [
    "age = 20\n",
    "\n",
    "# The if statement checks a condition. If it's True, it runs the code inside it.\n",
    "if age >= 18:\n",
    "    print(\"You can vote!\")"
   ]
  },
  {
   "cell_type": "code",
   "execution_count": 563,
   "id": "eb981f35-2c8f-4f3e-bde6-157f612029c8",
   "metadata": {},
   "outputs": [
    {
     "name": "stdout",
     "output_type": "stream",
     "text": [
      "You can have a social media account!\n"
     ]
    }
   ],
   "source": [
    "age = 17 # What if age = 21?\n",
    "\n",
    "if age >= 18:\n",
    "    print(\"You can vote!\")   \n",
    "# The elif (else if) is used when there is more than one condition to check. If the first if is False, Python moves to elif.\n",
    "elif age >= 13:\n",
    "    print(\"You can have a social media account!\")"
   ]
  },
  {
   "cell_type": "code",
   "execution_count": 567,
   "id": "86766be3-7452-4876-9ea2-8a9c20202707",
   "metadata": {},
   "outputs": [
    {
     "name": "stdout",
     "output_type": "stream",
     "text": [
      "You’re still a kid, enjoy your childhood!\n"
     ]
    }
   ],
   "source": [
    "age = 8 # What if age = \"ten\"? (Python cannot compare a string and a number using comparison operators.\n",
    "\n",
    "if age >= 18:\n",
    "    print(\"You can vote!\")\n",
    "elif age >= 13:\n",
    "    print(\"You can have a social media account!\")\n",
    "# The else statement runs if none of the previous conditions are True.\n",
    "else:\n",
    "    print(\"You’re still a kid, enjoy your childhood!\")"
   ]
  },
  {
   "cell_type": "markdown",
   "id": "a0cd3eb4-731b-4b57-8a07-fc32d9a76f34",
   "metadata": {},
   "source": [
    "#### **For Loops**\n",
    "A **for loop** is a statement that repeats a block of code a specific number of times. \n",
    "* This is useful when you know exactly how many iterations you need."
   ]
  },
  {
   "cell_type": "code",
   "execution_count": null,
   "id": "799ab652-72bf-4b9b-92c2-83262959aa94",
   "metadata": {},
   "outputs": [],
   "source": [
    "numlist = [1,2,3,4,5,6,7,8,9] # Create a list of numbers"
   ]
  },
  {
   "cell_type": "code",
   "execution_count": 641,
   "id": "ed0d3a44-2d7f-409b-b597-8688f3b59be3",
   "metadata": {},
   "outputs": [
    {
     "name": "stdout",
     "output_type": "stream",
     "text": [
      "1\n",
      "2\n",
      "3\n",
      "4\n",
      "5\n",
      "6\n",
      "7\n",
      "8\n",
      "9\n"
     ]
    }
   ],
   "source": [
    "# Iterating through a list\n",
    "for i in numlist: # Variable i can be modified, as long as it is used consistently in the loop and is readable\n",
    "    print(i)"
   ]
  },
  {
   "cell_type": "code",
   "execution_count": 582,
   "id": "e933646c-0031-4733-913d-6f9e14b8dd52",
   "metadata": {},
   "outputs": [
    {
     "name": "stdout",
     "output_type": "stream",
     "text": [
      "2\n",
      "4\n",
      "6\n",
      "8\n"
     ]
    }
   ],
   "source": [
    "# Printing Even Numbers\n",
    "for num in numlist:\n",
    "    if num%2 == 0:\n",
    "        print(num)"
   ]
  },
  {
   "cell_type": "code",
   "execution_count": 584,
   "id": "bc88dad6-34fb-4358-b843-ea7a373714df",
   "metadata": {},
   "outputs": [
    {
     "name": "stdout",
     "output_type": "stream",
     "text": [
      "1\n",
      "3\n",
      "5\n",
      "7\n",
      "9\n"
     ]
    }
   ],
   "source": [
    "# Printing Odd Numbers\n",
    "for number in numlist:\n",
    "    if number%2 != 0:\n",
    "        print(number)"
   ]
  },
  {
   "cell_type": "markdown",
   "id": "4d31d46b-0c09-4037-9d75-acf37e2f336d",
   "metadata": {},
   "source": [
    "#### **While Loops**\n",
    "A **while loop** is a statement that continues to execute a block of code as long as a specified condition is true. \n",
    "* This is ideal when you don’t know in advance how many times you’ll need to loop."
   ]
  },
  {
   "cell_type": "code",
   "execution_count": 603,
   "id": "2da9abff-2857-402b-beb5-9c4b14823cad",
   "metadata": {},
   "outputs": [
    {
     "name": "stdout",
     "output_type": "stream",
     "text": [
      "1\n",
      "2\n",
      "3\n",
      "4\n",
      "5\n",
      "6\n",
      "7\n",
      "8\n",
      "9\n"
     ]
    }
   ],
   "source": [
    "# Counting up\n",
    "x = 1\n",
    "\n",
    "while x < 10: \n",
    "    print(x) # Print the current number\n",
    "    x += 1 # Increase x by 1 for the next iteration"
   ]
  },
  {
   "cell_type": "code",
   "execution_count": 605,
   "id": "fc9c2652-5d02-4eb7-9104-261eb405aa18",
   "metadata": {},
   "outputs": [
    {
     "name": "stdout",
     "output_type": "stream",
     "text": [
      "1\n",
      "2\n",
      "6\n",
      "24\n"
     ]
    }
   ],
   "source": [
    "# Factorials\n",
    "n = 4 # Any positive integer\n",
    "factorial = 1 # Stores product of each iteration\n",
    "count = 1 # Counts iterations\n",
    "\n",
    "while count <= n:\n",
    "    factorial *= count  # Multiply the current factorial by count\n",
    "    print(factorial)  # Print the current factorial\n",
    "    count += 1  # Increase count by 1 for the next iteration"
   ]
  },
  {
   "cell_type": "markdown",
   "id": "3940dfd4-971d-4810-a49a-853b330a8725",
   "metadata": {},
   "source": [
    "#### **Functions**\n",
    "A **function** groups together a set of statements so they can be run more than once. They can also let us specify parameters that serve as inputs to the functions. Functions allow us to not have to repeatedly write the same code again and again!\n",
    "\n",
    "> **Def Statements**\n",
    ">\n",
    "> Functions begin with *def* then a space followed by the name of the function. Try to keep function names relevant and readable!\n",
    "> \n",
    ">Next comes a pair of parentheses with a number of arguments separated by a comma. These arguments are the inputs for your function. You'll be able to use these inputs in your function.\n",
    "> \n",
    ">The end of the statement ends with a colon. You MUST indent to begin the code inside your function correctly. Python makes use of whitespace to organize code."
   ]
  },
  {
   "cell_type": "code",
   "execution_count": 621,
   "id": "b279a0eb-a1a1-4162-bed9-6b660e284915",
   "metadata": {},
   "outputs": [],
   "source": [
    "# Function Syntax\n",
    "def name_of_function(argument1,argument2):\n",
    "    '''\n",
    "    This is where the function's Document String (doc-string) goes\n",
    "    '''\n",
    "    # Code goes here\n",
    "    # Return desired result"
   ]
  },
  {
   "cell_type": "code",
   "execution_count": 625,
   "id": "def95755-e129-4205-b451-7f72f6387f9f",
   "metadata": {},
   "outputs": [
    {
     "name": "stdout",
     "output_type": "stream",
     "text": [
      "helloooooo!\n"
     ]
    }
   ],
   "source": [
    "# Normal Function\n",
    "def say_hello():\n",
    "    print(\"helloooooo!\")\n",
    "\n",
    "say_hello()"
   ]
  },
  {
   "cell_type": "code",
   "execution_count": 627,
   "id": "e9c0b451-b463-403e-841a-b5b72bfa2d7c",
   "metadata": {},
   "outputs": [
    {
     "data": {
      "text/plain": [
       "3"
      ]
     },
     "execution_count": 627,
     "metadata": {},
     "output_type": "execute_result"
    }
   ],
   "source": [
    "# Addition Function\n",
    "def addition(num1, num2):\n",
    "    return num1 + num2\n",
    "\n",
    "addition(2,1)"
   ]
  },
  {
   "cell_type": "markdown",
   "id": "81ee7a85-bcb0-4258-995b-2fe8c4cbfae3",
   "metadata": {},
   "source": [
    "#### **EXERCISE 1: Compare Numbers**\n",
    "The purpose of this exercise is for students to develop a function that can receive arguments, use if/else statements, and appropriately use Python math and comparison operators. Encourage students to draw out pseudocode to visualize the iterations of their code and discuss as a class!\n",
    "\n",
    "**PROMPT: Write a Python function named *compare_numbers* that accepts two numbers. If both numbers are odd, return the larger of the two. If both numbers are even, return the smaller of the two. If one number is odd and the other is even, return their sum.**"
   ]
  },
  {
   "cell_type": "code",
   "execution_count": 332,
   "id": "360c4eec-62e4-4361-b776-0905c70ebe37",
   "metadata": {},
   "outputs": [],
   "source": [
    "def compare_numbers(a, b):\n",
    "    if a % 2 == 0 and b % 2 == 0: # Check if a and b are both even\n",
    "        if a < b: # If both numbers are even, check if a is less than b\n",
    "            return a  # If a is smaller, return a\n",
    "        else:\n",
    "            return b  # If a is NOT smaller, return b\n",
    "    elif a % 2 != 0 and b % 2 != 0: # Check if a and b are both odd\n",
    "        if a > b: # If both numbers are odd, check if a is greater than b\n",
    "            return a  # If a is greater, return a\n",
    "        else:\n",
    "            return b  # If a is NOT greater, return b\n",
    "    else:  # One number is and the other is even\n",
    "        return a + b  # Return their sum"
   ]
  },
  {
   "cell_type": "markdown",
   "id": "29564a6f-ee76-47f7-8be4-a00107c5ba85",
   "metadata": {},
   "source": [
    "Example test cases:"
   ]
  },
  {
   "cell_type": "code",
   "execution_count": 100,
   "id": "0c337507-7dc9-40dd-89a8-92e7a2d2d619",
   "metadata": {},
   "outputs": [
    {
     "data": {
      "text/plain": [
       "4"
      ]
     },
     "execution_count": 100,
     "metadata": {},
     "output_type": "execute_result"
    }
   ],
   "source": [
    "compare_numbers(4, 8)"
   ]
  },
  {
   "cell_type": "code",
   "execution_count": 102,
   "id": "fccd35a0-d452-4fcb-ab07-6e715b63053a",
   "metadata": {},
   "outputs": [
    {
     "data": {
      "text/plain": [
       "7"
      ]
     },
     "execution_count": 102,
     "metadata": {},
     "output_type": "execute_result"
    }
   ],
   "source": [
    "compare_numbers(7, 3)"
   ]
  },
  {
   "cell_type": "code",
   "execution_count": 645,
   "id": "02e404d8-0ab6-4f49-8e39-a8cb66bb1b35",
   "metadata": {},
   "outputs": [
    {
     "data": {
      "text/plain": [
       "9"
      ]
     },
     "execution_count": 645,
     "metadata": {},
     "output_type": "execute_result"
    }
   ],
   "source": [
    "compare_numbers(5, 9)"
   ]
  },
  {
   "cell_type": "markdown",
   "id": "57d553d9-3dd9-435e-9209-fd4535df93d7",
   "metadata": {},
   "source": [
    "#### **EXERCISE 2: Up Low**\n",
    "The purpose of this exercise is for students to develop a function that can receive an argument, manipulate strings, and use various Python statements. Encourage students to draw out pseudocode to visualize the iterations of their code and discuss as a class!\n",
    "\n",
    "**PROMPT: Write a Python function named *up_low* that accepts a string and calculates the number of upper case letters and lower case letters.**\n",
    "\n",
    "> Example input code:\n",
    ">\n",
    "> `\"Hello Mr. Rogers, how are you this fine Tuesday?\"`\n",
    "\n",
    "> Example output code:\n",
    "> \n",
    "> `Original String: Hello Mr. Rogers, how are you this fine Tuesday?`\n",
    "> \n",
    "> `No. of Upper case characters: 4`\n",
    "> \n",
    "> `No. of Lower case characters: 33`"
   ]
  },
  {
   "cell_type": "code",
   "execution_count": 91,
   "id": "c975e44d-8860-4ed6-b368-58b902c294bc",
   "metadata": {},
   "outputs": [],
   "source": [
    "def up_low(string): \n",
    "    upper_count = 0  # Initialize a variable to count uppercase letters\n",
    "    lower_count = 0  # Initialize a variable to count lowercase letters\n",
    "    \n",
    "    # Loop through each character in the string\n",
    "    for letter in string:\n",
    "        if letter.isupper() == True:  # Check if the character is uppercase\n",
    "            upper_count += 1  # If it's uppercase, increment the upper_count\n",
    "        elif letter.islower():  # Check if the character is lowercase\n",
    "            lower_count += 1  # If it's lowercase, increment the lower_count\n",
    "        else:\n",
    "            pass  # If it's a special character (neither upper nor lower), do nothing\n",
    "\n",
    "    return print(\"Original String:\", string, \"\\nNo. of Upper case characters:\", upper_count, \"\\nNo. of Lower case characters:\", lower_count)"
   ]
  },
  {
   "cell_type": "markdown",
   "id": "6f88fec2-46c7-4218-b473-f0c13c97b893",
   "metadata": {},
   "source": [
    "Example test cases:"
   ]
  },
  {
   "cell_type": "code",
   "execution_count": 108,
   "id": "bfb59d28-6261-4e5c-bf2c-6e5a09e21fc4",
   "metadata": {},
   "outputs": [
    {
     "name": "stdout",
     "output_type": "stream",
     "text": [
      "Original String: Hello Mr. Rogers, how are you this fine Tuesday? \n",
      "No. of Upper case characters: 4 \n",
      "No. of Lower case characters: 33\n"
     ]
    }
   ],
   "source": [
    "string = \"Hello Mr. Rogers, how are you this fine Tuesday?\"\n",
    "up_low(string)"
   ]
  },
  {
   "cell_type": "code",
   "execution_count": 110,
   "id": "dea5b6dc-6364-4e77-bcd5-da353d1fb7c2",
   "metadata": {},
   "outputs": [
    {
     "name": "stdout",
     "output_type": "stream",
     "text": [
      "Original String: My friend Timmy lives in New York City. \n",
      "No. of Upper case characters: 5 \n",
      "No. of Lower case characters: 26\n"
     ]
    }
   ],
   "source": [
    "string = \"My friend Timmy lives in New York City.\"\n",
    "up_low(string)"
   ]
  },
  {
   "cell_type": "markdown",
   "id": "43f6671d-c9a3-4b12-b7c3-ee5076b8fb53",
   "metadata": {},
   "source": [
    "### **Section III**"
   ]
  },
  {
   "cell_type": "markdown",
   "id": "ea6b3bbd-e395-45ca-b12e-762b6861e2b0",
   "metadata": {},
   "source": [
    "#### **Number Guessing Game**\n",
    "\n",
    "Develop a number guessing game in Python that allows users to select a difficulty level and guess the correct number within a certain amount of attempts. This activity applies a variety of Python statements taught in Sections I and II to create a fun interactive game students can modify as they play through the game.\n",
    "\n",
    "> After students have finished this activity, discuss as class what they could further improve on or incorporate in the game if they had more time."
   ]
  },
  {
   "cell_type": "code",
   "execution_count": 662,
   "id": "114ad2a5-50f3-499b-84d7-a6765b8b3ce8",
   "metadata": {},
   "outputs": [
    {
     "name": "stdout",
     "output_type": "stream",
     "text": [
      "Welcome to the Number Guessing Game!\n",
      "Choose your difficulty level:\n",
      "1. Easy (1-10)\n",
      "2. Medium (1-50)\n",
      "3. Hard (1-100)\n"
     ]
    },
    {
     "name": "stdin",
     "output_type": "stream",
     "text": [
      "Enter the difficulty level (1, 2, or 3):  1\n"
     ]
    },
    {
     "name": "stdout",
     "output_type": "stream",
     "text": [
      "I'm thinking of a number between 1 and 10. You have 5 attempts.\n"
     ]
    },
    {
     "name": "stdin",
     "output_type": "stream",
     "text": [
      "Enter your guess:  5\n"
     ]
    },
    {
     "name": "stdout",
     "output_type": "stream",
     "text": [
      "Too low! Try again.\n"
     ]
    },
    {
     "name": "stdin",
     "output_type": "stream",
     "text": [
      "Enter your guess:  8\n"
     ]
    },
    {
     "name": "stdout",
     "output_type": "stream",
     "text": [
      "Too low! Try again.\n"
     ]
    },
    {
     "name": "stdin",
     "output_type": "stream",
     "text": [
      "Enter your guess:  9\n"
     ]
    },
    {
     "name": "stdout",
     "output_type": "stream",
     "text": [
      "Congratulations! You've guessed the number 9 in 3 attempts.\n"
     ]
    },
    {
     "name": "stdin",
     "output_type": "stream",
     "text": [
      "Do you want to play again? (yes/no):  no\n"
     ]
    },
    {
     "name": "stdout",
     "output_type": "stream",
     "text": [
      "Thanks for playing!\n"
     ]
    }
   ],
   "source": [
    "import random\n",
    "\n",
    "def number_guessing_game():\n",
    "    # Print introduction\n",
    "    print(\"Welcome to the Number Guessing Game!\")\n",
    "    print(\"Choose your difficulty level:\")\n",
    "    print(\"1. Easy (1-10)\")\n",
    "    print(\"2. Medium (1-50)\")\n",
    "    print(\"3. Hard (1-100)\")\n",
    "\n",
    "    # User selects difficulty\n",
    "    difficulty = input(\"Enter the difficulty level (1, 2, or 3): \")\n",
    "    \n",
    "    # Set maximum number and attempts based on difficulty level\n",
    "    if difficulty == \"1\":\n",
    "        max_number = 10\n",
    "        max_attempts = 5\n",
    "    elif difficulty == \"2\":\n",
    "        max_number = 50\n",
    "        max_attempts = 7\n",
    "    elif difficulty == \"3\":\n",
    "        max_number = 100\n",
    "        max_attempts = 10\n",
    "    else:\n",
    "        print(\"Invalid choice. Defaulting to Medium difficulty.\")\n",
    "        max_number = 50\n",
    "        max_attempts = 7\n",
    "\n",
    "    # Generate a random secret number within the chosen range\n",
    "    secret_number = random.randint(1, max_number)\n",
    "    attempts = 0  # Initialize attempt counter\n",
    "    guessed_correctly = False  # Track if the guess is correct\n",
    "\n",
    "    # Initiate game\n",
    "    print(f\"I'm thinking of a number between 1 and {max_number}. You have {max_attempts} attempts.\")\n",
    "\n",
    "    # Game loop continues until the player guesses correctly or runs out of attempts\n",
    "    while not guessed_correctly and attempts < max_attempts:\n",
    "        guess = input(\"Enter your guess: \")\n",
    "        \n",
    "        # Validate that the input is a number\n",
    "        if not guess.isdigit():\n",
    "            print(\"Please enter a valid number.\")\n",
    "            continue  # Skip to the next iteration if input is invalid\n",
    "        \n",
    "        guess = int(guess)  # Convert input to an integer\n",
    "        attempts += 1  # Increment the attempt counter\n",
    "        \n",
    "        # Check if the guess is too low, too high, or correct\n",
    "        if guess < secret_number:\n",
    "            print(\"Too low! Try again.\")\n",
    "        elif guess > secret_number:\n",
    "            print(\"Too high! Try again.\")\n",
    "        else:\n",
    "            guessed_correctly = True  # Set flag to True if the guess is correct\n",
    "            print(f\"Congratulations! You've guessed the number {secret_number} in {attempts} attempts.\")\n",
    "            break  # Exit the loop if guessed correctly\n",
    "\n",
    "    # If the player runs out of attempts, inform them of the correct number\n",
    "    if not guessed_correctly:\n",
    "        print(f\"Sorry! You've used all your attempts. The number was {secret_number}.\")\n",
    "\n",
    "    # Ask the player if they want to play again\n",
    "    play_again = input(\"Do you want to play again? (yes/no): \").lower()\n",
    "    if play_again == \"yes\":\n",
    "        number_guessing_game()  # Restart the game if the player chooses to play again\n",
    "    else:\n",
    "        print(\"Thanks for playing!\")  # End the game\n",
    "\n",
    "# Start the game\n",
    "number_guessing_game()"
   ]
  }
 ],
 "metadata": {
  "kernelspec": {
   "display_name": "Python 3 (ipykernel)",
   "language": "python",
   "name": "python3"
  },
  "language_info": {
   "codemirror_mode": {
    "name": "ipython",
    "version": 3
   },
   "file_extension": ".py",
   "mimetype": "text/x-python",
   "name": "python",
   "nbconvert_exporter": "python",
   "pygments_lexer": "ipython3",
   "version": "3.12.4"
  }
 },
 "nbformat": 4,
 "nbformat_minor": 5
}
