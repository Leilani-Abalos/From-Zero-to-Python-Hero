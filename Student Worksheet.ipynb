{
 "cells": [
  {
   "cell_type": "markdown",
   "id": "a502ecaf-f2c1-4440-b98e-25668c62fc3a",
   "metadata": {},
   "source": [
    "## **From Zero to Python Hero Worksheet** 💻💡🔧"
   ]
  },
  {
   "cell_type": "markdown",
   "id": "cfa23efd-34d6-4356-9eab-00b878c95942",
   "metadata": {},
   "source": [
    "### **Section I**"
   ]
  },
  {
   "cell_type": "markdown",
   "id": "e7eb512d-385c-4179-986b-cfab03d5e874",
   "metadata": {},
   "source": [
    "#### **Strings**"
   ]
  },
  {
   "cell_type": "code",
   "execution_count": 8,
   "id": "606113b7-46c4-46de-8cdc-a494be8122da",
   "metadata": {},
   "outputs": [],
   "source": [
    "# Run a string\n"
   ]
  },
  {
   "cell_type": "code",
   "execution_count": 10,
   "id": "a301aa97-e1b5-4487-9632-edd34e82493e",
   "metadata": {},
   "outputs": [],
   "source": [
    "# Use a print statement\n"
   ]
  },
  {
   "cell_type": "code",
   "execution_count": 27,
   "id": "3a5c4ea0-5107-4a1a-a183-ea0691cbdb42",
   "metadata": {},
   "outputs": [],
   "source": [
    "# How can you print the string into multiple lines?\n"
   ]
  },
  {
   "cell_type": "code",
   "execution_count": 14,
   "id": "0bb3838d-63e6-4855-b9d3-f8226318d258",
   "metadata": {},
   "outputs": [],
   "source": [
    "# Count the length of the string\n"
   ]
  },
  {
   "cell_type": "code",
   "execution_count": 16,
   "id": "cb2983da-eed3-4e2b-9ef7-78b0c1c9dbe3",
   "metadata": {},
   "outputs": [],
   "source": [
    "# What is the data type?\n"
   ]
  },
  {
   "cell_type": "code",
   "execution_count": 18,
   "id": "1861d9e6-ebab-4071-b9c6-9e052380bc60",
   "metadata": {},
   "outputs": [],
   "source": [
    "# Assign a variable\n"
   ]
  },
  {
   "cell_type": "code",
   "execution_count": null,
   "id": "6b0cab4f-2c1e-4fa4-bd2c-54df2e4b8eb3",
   "metadata": {},
   "outputs": [],
   "source": [
    "# What number does an index start at\n"
   ]
  },
  {
   "cell_type": "code",
   "execution_count": 21,
   "id": "c85749ab-346a-44f1-a216-8d4be179c23f",
   "metadata": {},
   "outputs": [],
   "source": [
    "# Capitalize the string\n"
   ]
  },
  {
   "cell_type": "code",
   "execution_count": 25,
   "id": "cd1d3971-2898-4b9a-bf6f-cad4586b2783",
   "metadata": {},
   "outputs": [],
   "source": [
    "# Lowercase the string\n"
   ]
  },
  {
   "cell_type": "code",
   "execution_count": 29,
   "id": "228591e0-d7c3-416d-aafc-bf029a152474",
   "metadata": {},
   "outputs": [],
   "source": [
    "# Split the string\n"
   ]
  },
  {
   "cell_type": "markdown",
   "id": "3a412e3a-3ff3-45be-8371-aaf2375e1e21",
   "metadata": {},
   "source": [
    "#### **Numbers**"
   ]
  },
  {
   "cell_type": "code",
   "execution_count": 32,
   "id": "4d79410b-2d10-4468-869b-8bababbe1d4c",
   "metadata": {},
   "outputs": [],
   "source": [
    "# Assign a variable to a number\n"
   ]
  },
  {
   "cell_type": "code",
   "execution_count": 36,
   "id": "88209ebc-e0e7-4382-95d2-a662e81ef40b",
   "metadata": {},
   "outputs": [],
   "source": [
    "# Check the data type\n"
   ]
  },
  {
   "cell_type": "code",
   "execution_count": 38,
   "id": "01f0834f-b638-40b1-91be-56ff14b144ac",
   "metadata": {},
   "outputs": [],
   "source": [
    "# Assign a second variable to another number\n"
   ]
  },
  {
   "cell_type": "code",
   "execution_count": 40,
   "id": "46715ad4-1f02-4ab2-a140-3f6471b3ae41",
   "metadata": {},
   "outputs": [],
   "source": [
    "# Add\n"
   ]
  },
  {
   "cell_type": "code",
   "execution_count": 44,
   "id": "867fa049-2175-4c97-a006-47d128f240e1",
   "metadata": {},
   "outputs": [],
   "source": [
    "# Subtract\n"
   ]
  },
  {
   "cell_type": "code",
   "execution_count": 46,
   "id": "01d56476-7002-4716-84af-6532d06dbee3",
   "metadata": {},
   "outputs": [],
   "source": [
    "# Multiply\n"
   ]
  },
  {
   "cell_type": "code",
   "execution_count": 48,
   "id": "5bfc02ca-d8af-46dd-8387-2492321e3112",
   "metadata": {},
   "outputs": [],
   "source": [
    "# Divide\n"
   ]
  },
  {
   "cell_type": "code",
   "execution_count": 50,
   "id": "0b52535b-2f1f-4306-b532-a2cb2d8f44e3",
   "metadata": {},
   "outputs": [],
   "source": [
    "# What is the data type after you divided?\n"
   ]
  },
  {
   "cell_type": "code",
   "execution_count": 52,
   "id": "0cfc79ad-0b78-4ad9-955b-3968d8e32f3f",
   "metadata": {},
   "outputs": [],
   "source": [
    "# What is the remainder after you divided?\n"
   ]
  },
  {
   "cell_type": "code",
   "execution_count": 54,
   "id": "de259d93-64f6-4b77-a3ee-59a3ce33d10b",
   "metadata": {},
   "outputs": [],
   "source": [
    "e = 'one'\n",
    "f = 'two'"
   ]
  },
  {
   "cell_type": "code",
   "execution_count": 56,
   "id": "2177c3c1-02db-4a09-93ff-e43dd35135f5",
   "metadata": {},
   "outputs": [],
   "source": [
    "# What happens when you add two strings?\n"
   ]
  },
  {
   "cell_type": "code",
   "execution_count": 58,
   "id": "2c29f04b-13b9-4f13-b154-888eb1f5ba93",
   "metadata": {},
   "outputs": [],
   "source": [
    "# Can you conduct math operations on a string and a number?\n"
   ]
  },
  {
   "cell_type": "markdown",
   "id": "8e727786-7aa4-4f5e-b2de-13c40e8056f4",
   "metadata": {},
   "source": [
    "#### **Variable Assignments**"
   ]
  },
  {
   "cell_type": "code",
   "execution_count": null,
   "id": "80e4095f-617a-4a36-9144-81168d37a54b",
   "metadata": {},
   "outputs": [],
   "source": [
    "# Will this variable name be have an error?\n",
    "count123 = \"Hello World\"\n",
    "count123"
   ]
  },
  {
   "cell_type": "code",
   "execution_count": null,
   "id": "60e64e3b-c8a1-440e-b251-076819700ea2",
   "metadata": {},
   "outputs": [],
   "source": [
    "# Will this variable name have an error?\n",
    "1string = \"Hello World\"\n",
    "1string"
   ]
  },
  {
   "cell_type": "code",
   "execution_count": null,
   "id": "a8a877d3-238c-44ed-9ea8-ac08c042f05e",
   "metadata": {},
   "outputs": [],
   "source": [
    "# Will this variable name have an error?\n",
    "_my_variable = \"I love Python!\"\n",
    "_my_variable"
   ]
  },
  {
   "cell_type": "code",
   "execution_count": null,
   "id": "bade4377-cac7-4a89-aea6-6e8e82c35965",
   "metadata": {},
   "outputs": [],
   "source": [
    "# Can you call this variable?\n",
    "Sentence = \"I love Python!\"\n",
    "sentence "
   ]
  },
  {
   "cell_type": "code",
   "execution_count": 64,
   "id": "3e72fd93-c74c-4cf7-98a9-6f09bd129c09",
   "metadata": {},
   "outputs": [],
   "source": [
    "# Try out different variable names for yourself!\n"
   ]
  },
  {
   "cell_type": "markdown",
   "id": "84c19953-f14b-4776-a8d5-5c988817660b",
   "metadata": {},
   "source": [
    "#### **Lists**"
   ]
  },
  {
   "cell_type": "code",
   "execution_count": 67,
   "id": "673eb168-3898-4edf-9ec1-d7455048b86e",
   "metadata": {},
   "outputs": [],
   "source": [
    "# Create a list\n"
   ]
  },
  {
   "cell_type": "code",
   "execution_count": 69,
   "id": "c34d2c35-bd11-4dbf-8630-5f41302d6818",
   "metadata": {},
   "outputs": [],
   "source": [
    "# Check the data type\n"
   ]
  },
  {
   "cell_type": "code",
   "execution_count": 71,
   "id": "c54fd697-b7c4-42ee-998a-204f128b4310",
   "metadata": {},
   "outputs": [],
   "source": [
    "# Create a new list with only numbers\n"
   ]
  },
  {
   "cell_type": "code",
   "execution_count": 73,
   "id": "48dd1e9b-8d7e-4f00-9a2a-934d5a1bb1f3",
   "metadata": {},
   "outputs": [],
   "source": [
    "# How can you add another value to the end of the list?\n"
   ]
  },
  {
   "cell_type": "code",
   "execution_count": 75,
   "id": "3118fd2e-8e8f-4600-b2cb-e358f31a84cd",
   "metadata": {},
   "outputs": [],
   "source": [
    "# How can you remove a value from the list?\n"
   ]
  },
  {
   "cell_type": "code",
   "execution_count": 77,
   "id": "ef412336-0197-4504-bf39-d0f64b2f3fd2",
   "metadata": {},
   "outputs": [],
   "source": [
    "# Create a new list with only letters (as strings)\n"
   ]
  },
  {
   "cell_type": "code",
   "execution_count": 79,
   "id": "89eba4f7-05e9-4f2c-bb30-396828ef93f0",
   "metadata": {},
   "outputs": [],
   "source": [
    "# How can you reorganize the list in alphabetical order?\n"
   ]
  },
  {
   "cell_type": "markdown",
   "id": "92b9abb7-2b0d-4823-a2a0-4dc7d8f5b4f3",
   "metadata": {},
   "source": [
    "#### **Boolean Expressions (Comparison Operators)**"
   ]
  },
  {
   "cell_type": "code",
   "execution_count": 82,
   "id": "22e140ad-d6cb-4617-aa0c-b3ce27472168",
   "metadata": {},
   "outputs": [],
   "source": [
    "# Create two variables assigned to two different numbers\n",
    "\n"
   ]
  },
  {
   "cell_type": "code",
   "execution_count": 84,
   "id": "ef0ddfd0-ad93-4adf-9175-ae457b52b61b",
   "metadata": {},
   "outputs": [],
   "source": [
    "# Run a comparison operator\n"
   ]
  },
  {
   "cell_type": "code",
   "execution_count": 86,
   "id": "26393349-fb6c-4088-9f7d-da88a102cef6",
   "metadata": {},
   "outputs": [],
   "source": [
    "# Check the data type\n"
   ]
  },
  {
   "cell_type": "code",
   "execution_count": 90,
   "id": "6de5c294-a5a1-4149-b5cf-a6b2fd39b7b1",
   "metadata": {},
   "outputs": [],
   "source": [
    "# Less than\n"
   ]
  },
  {
   "cell_type": "code",
   "execution_count": 92,
   "id": "ce4f5518-7b0e-4e85-9c83-03845456a7fa",
   "metadata": {},
   "outputs": [],
   "source": [
    "# Greater than or equal to\n"
   ]
  },
  {
   "cell_type": "code",
   "execution_count": 94,
   "id": "8f232b95-dfc5-4a8f-ad62-a64abc7974ac",
   "metadata": {},
   "outputs": [],
   "source": [
    "# Less than or equal to\n"
   ]
  },
  {
   "cell_type": "code",
   "execution_count": 98,
   "id": "ff966216-afc0-4daf-90ea-d2791ca9496f",
   "metadata": {},
   "outputs": [],
   "source": [
    "# Equal to \n",
    "# Think: How is this different from a variable assignment?\n"
   ]
  },
  {
   "cell_type": "code",
   "execution_count": 100,
   "id": "9067d9bd-6173-45ad-a522-d1593d3cc00b",
   "metadata": {},
   "outputs": [],
   "source": [
    "# Not equal to\n"
   ]
  },
  {
   "cell_type": "code",
   "execution_count": 104,
   "id": "02bc1a68-b4c1-4a9b-8820-6d9e06295f0a",
   "metadata": {},
   "outputs": [],
   "source": [
    "# Add and equal to\n",
    "# Note: Other math operators can be paired with (=) sign too!\n"
   ]
  },
  {
   "cell_type": "markdown",
   "id": "0df7daf6-f947-40b3-ab40-54569b4f5658",
   "metadata": {},
   "source": [
    "An interesting feature of Python is the ability to chain multiple comparisons to perform a more complex test. You can use these comparison operators as a shorthand for larger Boolean Expressions!"
   ]
  },
  {
   "cell_type": "code",
   "execution_count": 107,
   "id": "d535ca3c-b179-4d0b-a1c4-95d8d6f1f4f0",
   "metadata": {},
   "outputs": [],
   "source": [
    "# Create two new variables assigned to two different numbers\n",
    "\n"
   ]
  },
  {
   "cell_type": "code",
   "execution_count": 109,
   "id": "38074d65-542e-4bcb-8384-d538af25ebcb",
   "metadata": {},
   "outputs": [],
   "source": [
    "# AND - Both conditions must be true\n"
   ]
  },
  {
   "cell_type": "code",
   "execution_count": 111,
   "id": "82094ffe-0cf8-4c5c-a401-0eec01997b3c",
   "metadata": {},
   "outputs": [],
   "source": [
    "# OR - At leats one condition must be true\n"
   ]
  },
  {
   "cell_type": "code",
   "execution_count": 113,
   "id": "a75be141-971f-455e-a1d5-ccfdab949b34",
   "metadata": {},
   "outputs": [],
   "source": [
    "# NOT - Negates a condition\n"
   ]
  },
  {
   "cell_type": "markdown",
   "id": "430bd4ce-3f94-4706-a493-b91a7716a349",
   "metadata": {},
   "source": [
    "### **Section II**"
   ]
  },
  {
   "cell_type": "markdown",
   "id": "5a2cd7e5-3f50-4183-a8e6-2e24bc57ee18",
   "metadata": {},
   "source": [
    "#### **If/Elif/Else Statements**"
   ]
  },
  {
   "cell_type": "code",
   "execution_count": 120,
   "id": "8296ad17-70ea-4e20-a25b-42c47fa1dd84",
   "metadata": {},
   "outputs": [],
   "source": [
    "# Create a variable that is assigned to an age > 18\n",
    "\n",
    "\n",
    "# How can we check if this variable is true in order to print a string?\n",
    "\n"
   ]
  },
  {
   "cell_type": "code",
   "execution_count": null,
   "id": "abffa2dd-22ef-411d-88e2-28d9cad9aa8f",
   "metadata": {},
   "outputs": [],
   "source": [
    "# Create a variable that is assigned to an age < 13\n",
    "\n",
    "\n",
    "# Copy code from previous code block\n",
    "\n",
    "\n",
    "# How can we check if this variable is true for multiple conditions?\n",
    "\n"
   ]
  },
  {
   "cell_type": "code",
   "execution_count": 122,
   "id": "c6072dc8-b132-4c4b-adfd-d238e7fbddb0",
   "metadata": {},
   "outputs": [],
   "source": [
    "# Create a variable that is assigned to an age < 13\n",
    "\n",
    "\n",
    "# Copy code from previous code block\n",
    "\n",
    "\n",
    "# How can we run a string if all conditions are not met?\n",
    "\n"
   ]
  },
  {
   "cell_type": "markdown",
   "id": "9c6406fd-3de5-4d35-a6e1-0a6e761a2b68",
   "metadata": {},
   "source": [
    "#### **For Loops**"
   ]
  },
  {
   "cell_type": "code",
   "execution_count": 125,
   "id": "faec5b8a-6f4c-460e-86fd-98b3399c6e4c",
   "metadata": {},
   "outputs": [],
   "source": [
    "# Create a list of numbers\n"
   ]
  },
  {
   "cell_type": "markdown",
   "id": "d1fe52f1-94ea-4866-82c6-ec4f96cc3af4",
   "metadata": {},
   "source": [
    "Iterate through each number using a for loop"
   ]
  },
  {
   "cell_type": "code",
   "execution_count": null,
   "id": "49d8f00a-9073-47cb-802a-28dc140dba2e",
   "metadata": {},
   "outputs": [],
   "source": []
  },
  {
   "cell_type": "markdown",
   "id": "ef94fbb2-a5fe-46ea-896e-14a421276f1f",
   "metadata": {},
   "source": [
    "Print all even numbers  using a for loop"
   ]
  },
  {
   "cell_type": "code",
   "execution_count": null,
   "id": "b1322dc8-ea39-4de3-a0c5-16d0f2fa9c41",
   "metadata": {},
   "outputs": [],
   "source": []
  },
  {
   "cell_type": "markdown",
   "id": "e98a1a5a-cdf2-498b-8a44-f15157fbd5e0",
   "metadata": {},
   "source": [
    "Print all odd numbers  using a for loop"
   ]
  },
  {
   "cell_type": "code",
   "execution_count": null,
   "id": "5c960245-10b2-45eb-a74e-b4365b432d2e",
   "metadata": {},
   "outputs": [],
   "source": []
  },
  {
   "cell_type": "markdown",
   "id": "1343db85-8b09-4ae2-843f-180760e0f5be",
   "metadata": {},
   "source": [
    "#### **While Loops**"
   ]
  },
  {
   "cell_type": "markdown",
   "id": "783dd029-b015-45cf-bcf7-42f90c3e9b9e",
   "metadata": {},
   "source": [
    "Create a while loop that counts up all numbers between a range of two numbers."
   ]
  },
  {
   "cell_type": "code",
   "execution_count": 144,
   "id": "d36bd81b-10df-47bd-835d-ccf213f4d954",
   "metadata": {},
   "outputs": [],
   "source": [
    "# Assign a variable to a number\n",
    "\n",
    "\n",
    "# Create a while loop\n",
    "# Think: Will this loop include the first and last numbers?\n",
    "\n",
    "# Print the current number\n",
    "\n",
    "# How do you iterate through the next number?\n"
   ]
  },
  {
   "cell_type": "markdown",
   "id": "27c90c57-7bb1-43d1-9314-4e134708bdfd",
   "metadata": {},
   "source": [
    "Create a while loop that uses that outputs all factorials within a range of two numbers."
   ]
  },
  {
   "cell_type": "code",
   "execution_count": null,
   "id": "3965711d-fdc8-4521-aefc-512c95ff17f5",
   "metadata": {},
   "outputs": [],
   "source": [
    "# Assign a variable to a number\n",
    "\n",
    "# Create a variable to store the products (factorials) of each iteration\n",
    "\n",
    "# Create a variable that counts the iterations\n",
    "\n",
    "\n",
    "# Create a while loop\n",
    "\n",
    "# Multiple the current factorial by the current count\\\n",
    "\n",
    "# How can you use count to iterate through the next number?\n"
   ]
  },
  {
   "cell_type": "markdown",
   "id": "6db5657b-9718-4f1e-ad39-9da8186f9d2f",
   "metadata": {},
   "source": [
    "#### **Functions**"
   ]
  },
  {
   "cell_type": "markdown",
   "id": "81b8e1c3-d13e-4d9c-87ed-d3a97dbb3e22",
   "metadata": {},
   "source": [
    "Example of function syntax:"
   ]
  },
  {
   "cell_type": "code",
   "execution_count": 151,
   "id": "3a75a28c-88f3-4bcc-9a5a-2dbf914c434a",
   "metadata": {},
   "outputs": [],
   "source": [
    "def name_of_function(argument1,argument2):\n",
    "    '''\n",
    "    This is where the function's Document String (doc-string) goes\n",
    "    '''\n",
    "    # Code goes here\n",
    "    # Return desired result"
   ]
  },
  {
   "cell_type": "code",
   "execution_count": 153,
   "id": "6a36d45b-6cda-4212-8447-4d600aae702c",
   "metadata": {},
   "outputs": [],
   "source": [
    "# Normal Function\n",
    "\n",
    "\n",
    "\n"
   ]
  },
  {
   "cell_type": "code",
   "execution_count": 155,
   "id": "089d65db-522a-422d-9dea-e67811168506",
   "metadata": {},
   "outputs": [],
   "source": [
    "# Addition Function\n",
    "\n",
    "\n",
    "\n"
   ]
  },
  {
   "cell_type": "markdown",
   "id": "ccf25a1c-f6d5-430d-9db2-9e2471fa4be7",
   "metadata": {},
   "source": [
    "#### **EXERCISE 1: Compare Numbers**"
   ]
  },
  {
   "cell_type": "markdown",
   "id": "0dbc1e96-e0ee-42d4-9af2-b235e8bef89d",
   "metadata": {},
   "source": [
    "**Write a Python function named *compare_numbers* that accepts two numbers. If both numbers are odd, return the larger of the two. If both numbers are even, return the smaller of the two. If one number is odd and the other is even, return their sum.**"
   ]
  },
  {
   "cell_type": "code",
   "execution_count": null,
   "id": "ac704c36-4a64-4a7d-94cc-fd28dc94a63b",
   "metadata": {},
   "outputs": [],
   "source": []
  },
  {
   "cell_type": "markdown",
   "id": "bc2df19f-f77b-4454-bd0c-f03a57ed471b",
   "metadata": {},
   "source": [
    "Test cases:"
   ]
  },
  {
   "cell_type": "code",
   "execution_count": null,
   "id": "640d4a99-8a3f-4c64-b54e-fd4e88461bc4",
   "metadata": {},
   "outputs": [],
   "source": [
    "compare_numbers(4, 8)"
   ]
  },
  {
   "cell_type": "code",
   "execution_count": null,
   "id": "73b7d68a-0438-483d-b588-62d329687c06",
   "metadata": {},
   "outputs": [],
   "source": [
    "compare_numbers(7, 3)"
   ]
  },
  {
   "cell_type": "code",
   "execution_count": null,
   "id": "0c872a65-8075-43a9-94f8-79b98f101500",
   "metadata": {},
   "outputs": [],
   "source": [
    "compare_numbers(5, 9)"
   ]
  },
  {
   "cell_type": "markdown",
   "id": "94e28e8b-3471-464e-96ab-9fbf6864b2b0",
   "metadata": {},
   "source": [
    "#### **EXERCISE 2: Up Low**"
   ]
  },
  {
   "cell_type": "markdown",
   "id": "e54e13ef-9d0a-4b4a-acba-56c0c228387d",
   "metadata": {},
   "source": [
    "**PROMPT: Write a Python function named *up_low* that accepts a string and calculates the number of upper case letters and lower case letters.**\n",
    "\n",
    "> Example input code:\n",
    ">\n",
    "> `\"Hello Mr. Rogers, how are you this fine Tuesday?\"`\n",
    "\n",
    "> Example output code:\n",
    "> \n",
    "> `Original String: Hello Mr. Rogers, how are you this fine Tuesday?`\n",
    "> \n",
    "> `No. of Upper case characters: 4`\n",
    "> \n",
    "> `No. of Lower case characters: 33`"
   ]
  },
  {
   "cell_type": "code",
   "execution_count": null,
   "id": "d0bbdbb4-d13e-444b-a772-8e3397202a41",
   "metadata": {},
   "outputs": [],
   "source": []
  },
  {
   "cell_type": "markdown",
   "id": "41c1a4f9-f4a5-47c3-8e5a-1dcef0ddf4da",
   "metadata": {},
   "source": [
    "Test cases:"
   ]
  },
  {
   "cell_type": "code",
   "execution_count": null,
   "id": "3df0f25a-d1f7-4c46-a6ab-32cbb98e31c5",
   "metadata": {},
   "outputs": [],
   "source": [
    "string = \"Hello Mr. Rogers, how are you this fine Tuesday?\"\n",
    "up_low(string)"
   ]
  },
  {
   "cell_type": "code",
   "execution_count": null,
   "id": "d3957374-bfb6-4758-9561-15a14ed3f307",
   "metadata": {},
   "outputs": [],
   "source": [
    "string = \"My friend Timmy lives in New York City.\"\n",
    "up_low(string)"
   ]
  },
  {
   "cell_type": "markdown",
   "id": "251ffb7b-7363-4085-8f74-3405ca2b7d58",
   "metadata": {},
   "source": [
    "### **Section III**"
   ]
  },
  {
   "cell_type": "markdown",
   "id": "f54fe6f5-9d78-48e5-a5d5-15254a14c326",
   "metadata": {},
   "source": [
    "#### **Number Guessing Game**\n",
    "\n",
    "**PROMPT: Develop a number guessing game in Python that allows users to select a difficulty level and guess the correct number within a certain amount of attempts.**\n",
    "\n",
    "> Note: Do not modify the code already inputted in the following code block. Simply run it alongside your game logic!"
   ]
  },
  {
   "cell_type": "code",
   "execution_count": null,
   "id": "da375fa0-e686-466b-84ef-2b8bb5297db2",
   "metadata": {},
   "outputs": [],
   "source": [
    "# Run the following line to import the random module\n",
    "import random\n",
    "\n",
    "# Create a function named number_guessing_game that takes in no arguements \n",
    "\n",
    "    \n",
    "    # Print introduction\n",
    "\n",
    "\n",
    "\n",
    "\n",
    "    \n",
    "\n",
    "    # User selects difficulty\n",
    "    difficulty = input(\"Enter the difficulty level (1, 2, or 3): \")\n",
    "    \n",
    "    # Set maximum number and attempts based on each difficulty level\n",
    "    \n",
    "    \n",
    "\n",
    "\n",
    "\n",
    "\n",
    "\n",
    "\n",
    "\n",
    "\n",
    "\n",
    "\n",
    "\n",
    "\n",
    "\n",
    "    # Generates a random secret number within the chosen range\n",
    "    secret_number = random.randint(1, max_number)\n",
    "    attempts = 0  # Variable that counts attempts\n",
    "    guessed_correctly = False  # Variable that tracks if the guess is correct\n",
    "\n",
    "    # Create an opening statement by printing an f-string that includes the variables for max number and max attempts\n",
    "\n",
    "\n",
    "    # Game loop continues until the player guesses correctly or runs out of attempts\n",
    "    while not guessed_correctly and attempts < max_attempts:\n",
    "\n",
    "        # User inputs their guess\n",
    "        guess = input(\"Enter your guess: \")\n",
    "        \n",
    "        # Validates that the input is a number\n",
    "        if not guess.isdigit():\n",
    "            print(\"Please enter a valid number.\")\n",
    "            continue\n",
    "        \n",
    "        guess = int(guess)  # Converts input to an integer\n",
    "        \n",
    "        # Create a for loop that checks if the guess is too low, too high, or correct\n",
    "        # If the guess is correct\n",
    "        # Note: Remember to use the attempt counter!\n",
    "        if guess < secret_number:\n",
    "            print(\"Too low! Try again.\")\n",
    "        elif guess > secret_number:\n",
    "            print(\"Too high! Try again.\")\n",
    "        else:\n",
    "            guessed_correctly = True  # Set flag to True if the guess is correct\n",
    "            print(f\"Congratulations! You've guessed the number {secret_number} in {attempts} attempts.\")\n",
    "            break  # Exit the loop if guessed correctly\n",
    "\n",
    "    # If the player runs out of attempts, inform them of the correct number\n",
    "    if not guessed_correctly:\n",
    "        print(f\"Sorry! You've used all your attempts. The number was {secret_number}.\")\n",
    "\n",
    "    # Ask the player if they want to play again\n",
    "    play_again = input(\"Do you want to play again? (yes/no): \").lower()\n",
    "    if play_again == \"yes\":\n",
    "        number_guessing_game()  # Restart the game if the player chooses to play again\n",
    "    else:\n",
    "        print(\"Thanks for playing!\")  # End the game\n",
    "\n",
    "# Start the game\n",
    "number_guessing_game()"
   ]
  },
  {
   "cell_type": "markdown",
   "id": "8fe16ece-fc46-45d0-a724-28744ce9ae1d",
   "metadata": {},
   "source": [
    "## **Workshop Feedback Questionnaire**\n",
    "Please fill out the form below at the end of the workshop!"
   ]
  },
  {
   "cell_type": "code",
   "execution_count": 193,
   "id": "b47325d6-a774-41af-847e-95fcca65021e",
   "metadata": {
    "jupyter": {
     "source_hidden": true
    }
   },
   "outputs": [
    {
     "data": {
      "text/html": [
       "<div style=\"text-align: center;\"><img src=\"C:/Users/leilani.abalos/Downloads/PythonWorkshop.jpg\" width=\"300\" height=\"200\"/></div>"
      ],
      "text/plain": [
       "<IPython.core.display.HTML object>"
      ]
     },
     "metadata": {},
     "output_type": "display_data"
    }
   ],
   "source": [
    "from IPython.display import Image, HTML\n",
    "\n",
    "display(HTML('<div style=\"text-align: center;\"><img src=\"C:/Users/leilani.abalos/Downloads/PythonWorkshop.jpg\" width=\"300\" height=\"200\"/></div>'))"
   ]
  }
 ],
 "metadata": {
  "kernelspec": {
   "display_name": "Python 3 (ipykernel)",
   "language": "python",
   "name": "python3"
  },
  "language_info": {
   "codemirror_mode": {
    "name": "ipython",
    "version": 3
   },
   "file_extension": ".py",
   "mimetype": "text/x-python",
   "name": "python",
   "nbconvert_exporter": "python",
   "pygments_lexer": "ipython3",
   "version": "3.12.4"
  }
 },
 "nbformat": 4,
 "nbformat_minor": 5
}
